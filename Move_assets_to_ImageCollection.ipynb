{
  "nbformat": 4,
  "nbformat_minor": 0,
  "metadata": {
    "colab": {
      "provenance": []
    },
    "kernelspec": {
      "name": "python3",
      "display_name": "Python 3"
    },
    "language_info": {
      "name": "python"
    }
  },
  "cells": [
    {
      "cell_type": "code",
      "execution_count": null,
      "metadata": {
        "colab": {
          "base_uri": "https://localhost:8080/",
          "height": 17
        },
        "id": "MNCdk2A5jKl6",
        "outputId": "6b098ba9-440c-4afd-fb88-2706f4ad4f88"
      },
      "outputs": [
        {
          "output_type": "display_data",
          "data": {
            "text/plain": [
              "<IPython.core.display.HTML object>"
            ],
            "text/html": [
              "\n",
              "            <style>\n",
              "                .geemap-dark {\n",
              "                    --jp-widgets-color: white;\n",
              "                    --jp-widgets-label-color: white;\n",
              "                    --jp-ui-font-color1: white;\n",
              "                    --jp-layout-color2: #454545;\n",
              "                    background-color: #383838;\n",
              "                }\n",
              "\n",
              "                .geemap-dark .jupyter-button {\n",
              "                    --jp-layout-color3: #383838;\n",
              "                }\n",
              "\n",
              "                .geemap-colab {\n",
              "                    background-color: var(--colab-primary-surface-color, white);\n",
              "                }\n",
              "\n",
              "                .geemap-colab .jupyter-button {\n",
              "                    --jp-layout-color3: var(--colab-primary-surface-color, white);\n",
              "                }\n",
              "            </style>\n",
              "            "
            ]
          },
          "metadata": {}
        }
      ],
      "source": [
        "from datetime import datetime, timedelta\n",
        "from google.colab import drive\n",
        "import geopandas as gpd\n",
        "import pandas as pd\n",
        "import calendar\n",
        "import geemap\n",
        "import ee"
      ]
    },
    {
      "cell_type": "code",
      "source": [
        "# Authenticated Earth Engine\n",
        "ee.Authenticate()\n",
        "ee.Initialize(project='try-spasial')"
      ],
      "metadata": {
        "colab": {
          "base_uri": "https://localhost:8080/",
          "height": 17
        },
        "id": "TSL7JyJgjO7B",
        "outputId": "5d9b2ca9-6db3-48bf-b096-a8ce9c038082"
      },
      "execution_count": null,
      "outputs": [
        {
          "output_type": "display_data",
          "data": {
            "text/plain": [
              "<IPython.core.display.HTML object>"
            ],
            "text/html": [
              "\n",
              "            <style>\n",
              "                .geemap-dark {\n",
              "                    --jp-widgets-color: white;\n",
              "                    --jp-widgets-label-color: white;\n",
              "                    --jp-ui-font-color1: white;\n",
              "                    --jp-layout-color2: #454545;\n",
              "                    background-color: #383838;\n",
              "                }\n",
              "\n",
              "                .geemap-dark .jupyter-button {\n",
              "                    --jp-layout-color3: #383838;\n",
              "                }\n",
              "\n",
              "                .geemap-colab {\n",
              "                    background-color: var(--colab-primary-surface-color, white);\n",
              "                }\n",
              "\n",
              "                .geemap-colab .jupyter-button {\n",
              "                    --jp-layout-color3: var(--colab-primary-surface-color, white);\n",
              "                }\n",
              "            </style>\n",
              "            "
            ]
          },
          "metadata": {}
        }
      ]
    },
    {
      "cell_type": "markdown",
      "source": [
        "# Move assets to ImageCollection"
      ],
      "metadata": {
        "id": "NbLupZRMq6cO"
      }
    },
    {
      "cell_type": "code",
      "source": [
        "# Folder sumber (tempat asset berada)\n",
        "source_folder = 'projects/try-spasial/assets/sentinel1'\n",
        "\n",
        "# Folder tujuan (tempat asset akan dipindahkan)\n",
        "destination_folder = 'projects/try-spasial/assets/collection'\n",
        "\n",
        "print(f\"Source folder: {source_folder}\")\n",
        "print(f\"Destination folder: {destination_folder}\")\n",
        "\n",
        "def list_and_move_assets(source_folder, destination_folder):\n",
        "    \"\"\"List all assets in source folder and move them to ImageCollection with specified scale and dimensions\"\"\"\n",
        "    try:\n",
        "        # List all assets in the source folder\n",
        "        asset_list = ee.data.listAssets({'parent': source_folder})\n",
        "\n",
        "        if not asset_list.get('assets'):\n",
        "            print(\"❌ No assets found in source folder!\")\n",
        "            return []\n",
        "\n",
        "        print(f\"Found {len(asset_list['assets'])} assets in the source folder:\")\n",
        "        print(\"=\" * 50)\n",
        "\n",
        "        # Membuat ImageCollection dari semua asset di folder\n",
        "        images = []\n",
        "        for asset in asset_list['assets']:\n",
        "            asset_id = asset['id']\n",
        "            image = ee.Image(asset_id)\n",
        "            images.append(image)\n",
        "            print(f\"Asset: {asset_id}\")\n",
        "\n",
        "        # Gabungkan semua citra menjadi ImageCollection\n",
        "        image_collection = ee.ImageCollection(images)\n",
        "\n",
        "        # Menyimpan citra\n",
        "        for image in images:\n",
        "            asset_name = image.getInfo()['id'].split('/')[-1]  # Mengambil nama asset\n",
        "            destination_path = f\"{destination_folder}/{asset_name}\"\n",
        "            print(f\"Moving asset to: {destination_path}\")\n",
        "\n",
        "            scale = 10  # Resolusi skala dalam meter\n",
        "            region = image.geometry().bounds()  # Ambil batas geometri citra untuk menentukan region\n",
        "\n",
        "            task = ee.batch.Export.image.toAsset(\n",
        "                image=image,\n",
        "                description=f\"Export_{asset_name}\",\n",
        "                assetId=destination_path,\n",
        "                scale=scale,\n",
        "                region=region,\n",
        "                maxPixels=int(1e13)\n",
        "            )\n",
        "            task.start()\n",
        "            print(f\"Export task started for {asset_name}\")\n",
        "\n",
        "        return image_collection\n",
        "\n",
        "    except Exception as e:\n",
        "        print(f\"❌ Error processing assets: {str(e)}\")\n",
        "        return []\n",
        "\n",
        "# Run the function to move files\n",
        "list_and_move_assets(source_folder, destination_folder)"
      ],
      "metadata": {
        "id": "u1axjuyDa5ab"
      },
      "execution_count": null,
      "outputs": []
    }
  ]
}